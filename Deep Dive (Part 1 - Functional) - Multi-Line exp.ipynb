{
 "cells": [
  {
   "cell_type": "code",
   "execution_count": 1,
   "id": "8717bfd2",
   "metadata": {},
   "outputs": [
    {
     "name": "stdout",
     "output_type": "stream",
     "text": [
      "The Zen of Python, by Tim Peters\n",
      "\n",
      "Beautiful is better than ugly.\n",
      "Explicit is better than implicit.\n",
      "Simple is better than complex.\n",
      "Complex is better than complicated.\n",
      "Flat is better than nested.\n",
      "Sparse is better than dense.\n",
      "Readability counts.\n",
      "Special cases aren't special enough to break the rules.\n",
      "Although practicality beats purity.\n",
      "Errors should never pass silently.\n",
      "Unless explicitly silenced.\n",
      "In the face of ambiguity, refuse the temptation to guess.\n",
      "There should be one-- and preferably only one --obvious way to do it.\n",
      "Although that way may not be obvious at first unless you're Dutch.\n",
      "Now is better than never.\n",
      "Although never is often better than *right* now.\n",
      "If the implementation is hard to explain, it's a bad idea.\n",
      "If the implementation is easy to explain, it may be a good idea.\n",
      "Namespaces are one honking great idea -- let's do more of those!\n"
     ]
    }
   ],
   "source": [
    "import this"
   ]
  },
  {
   "cell_type": "markdown",
   "id": "b011571b",
   "metadata": {},
   "source": [
    "* Python Hierarchy"
   ]
  },
  {
   "cell_type": "markdown",
   "id": "cd0e2609",
   "metadata": {},
   "source": [
    "# Numbers \n",
    "\n",
    "### Integral\n",
    "- Integers\n",
    "- Booleans\n",
    " \n",
    "### Non-Integral\n",
    "- Floats (doubles in C)\n",
    "- Complex\n",
    "- Decimals\n",
    "- Fractions (rational numbers)\n",
    "    "
   ]
  },
  {
   "cell_type": "markdown",
   "id": "a61a09bc",
   "metadata": {},
   "source": [
    "<div class=\"alert alert-block alert-info\">\n",
    "    <b>Tip:</b> Use blue boxes (alert-info) for tips and notes.\n",
    "    If it's a note, you don't have to include the word \"Note\".\n",
    "    </div>\n",
    "    <\\div class=\"alert alert-block alert-info\">"
   ]
  },
  {
   "cell_type": "markdown",
   "id": "993ee4b7",
   "metadata": {},
   "source": [
    "<div class=\"alert alert-block alert-warning\">\n",
    "<b>Example:</b> Use yellow boxes for examples not in code cells.\n",
    "    </div>\n",
    "    <\\div class=\"alert alert-block alert-warning\">"
   ]
  },
  {
   "cell_type": "markdown",
   "id": "4f9d1efa",
   "metadata": {},
   "source": [
    "<div class=\"alert alert-block alert-success\">\n",
    "    <\\div class=\"alert-block alert-success\">"
   ]
  },
  {
   "cell_type": "markdown",
   "id": "5e4b600c",
   "metadata": {},
   "source": [
    "<div class=\"alert alert-block alert-danger\">\n",
    "<\\div class=\"alert alert-block alert-danger\">"
   ]
  },
  {
   "cell_type": "markdown",
   "id": "7e91ba2f",
   "metadata": {},
   "source": [
    "## Collections\n",
    "\n",
    "### Sequences\n",
    "- **Mutable**\n",
    "  - Lists\n",
    "- **Immutable**\n",
    "  - Tuples\n",
    "  - Strings //\n"
   ]
  },
  {
   "cell_type": "markdown",
   "id": "40d5a714",
   "metadata": {},
   "source": [
    "### Sets\n",
    "- **Mutable**\n",
    "  - sets\n",
    "- **Immutable**\n",
    "  - frozen sets\n",
    "  \n",
    "### Mappings\n",
    "\n",
    "- **Dictionaries**\n"
   ]
  },
  {
   "cell_type": "markdown",
   "id": "54c6657a",
   "metadata": {},
   "source": [
    "## Callables\n",
    "- User-defined functions\n",
    "- generators\n",
    "- classes\n",
    "- instance methods\n",
    "- class instances (\\__call__())\n",
    "- built-in functions/methods\n"
   ]
  },
  {
   "cell_type": "markdown",
   "id": "902a1682",
   "metadata": {},
   "source": [
    "### Multi-line statements & strings"
   ]
  },
  {
   "cell_type": "markdown",
   "id": "290e3b5b",
   "metadata": {},
   "source": [
    "- **Physical** *newline vs **Logical** NEWLINE token"
   ]
  },
  {
   "cell_type": "markdown",
   "id": "c94266c6",
   "metadata": {},
   "source": [
    "### Implicit multi-line:\n",
    "- list literals [ ]\n",
    "- tuple literals ( )\n",
    "- dictionary/set literals: { }\n",
    "- function arguments / parameters\n"
   ]
  },
  {
   "cell_type": "code",
   "execution_count": 11,
   "id": "9ea137f6",
   "metadata": {},
   "outputs": [
    {
     "data": {
      "text/plain": [
       "[1, 2, 3]"
      ]
     },
     "execution_count": 11,
     "metadata": {},
     "output_type": "execute_result"
    }
   ],
   "source": [
    "[1, #item1\n",
    " 2, # item2\n",
    " 3 # item3\n",
    "]"
   ]
  },
  {
   "cell_type": "code",
   "execution_count": 12,
   "id": "4ea68596",
   "metadata": {},
   "outputs": [],
   "source": [
    "def my_func(a,\n",
    "           b, # comments\n",
    "           c):\n",
    "    print(a,b,c)"
   ]
  },
  {
   "cell_type": "code",
   "execution_count": 13,
   "id": "1b067f22",
   "metadata": {},
   "outputs": [
    {
     "name": "stdout",
     "output_type": "stream",
     "text": [
      "10 20 30\n"
     ]
    }
   ],
   "source": [
    "my_func(10, #prints number 10\n",
    "       20,30)"
   ]
  },
  {
   "cell_type": "markdown",
   "id": "9a3c1568",
   "metadata": {},
   "source": [
    "### Explicit multi-line\n",
    "* you can break up multiple lines explicitly with **\\** __backslash__\n",
    "* no comments after the backslash"
   ]
  },
  {
   "cell_type": "markdown",
   "id": "332ca79a",
   "metadata": {},
   "source": [
    "### Multi-Line String Literals\n",
    "* triple delimiters ''' ''' **or** \"\"\" \"\"\"\n",
    "* \\n newline retained, spaces retained, etc \\t \n"
   ]
  },
  {
   "cell_type": "code",
   "execution_count": 14,
   "id": "44657c61",
   "metadata": {},
   "outputs": [],
   "source": [
    "# list\n",
    "a = [1,2,3]"
   ]
  },
  {
   "cell_type": "code",
   "execution_count": 15,
   "id": "a8182a07",
   "metadata": {},
   "outputs": [],
   "source": [
    "a = [1,2, \n",
    "    3, 4, 5 ]"
   ]
  },
  {
   "cell_type": "code",
   "execution_count": 16,
   "id": "3cda33e0",
   "metadata": {},
   "outputs": [
    {
     "data": {
      "text/plain": [
       "[1, 2, 3, 4, 5]"
      ]
     },
     "execution_count": 16,
     "metadata": {},
     "output_type": "execute_result"
    }
   ],
   "source": [
    "a"
   ]
  },
  {
   "cell_type": "code",
   "execution_count": 17,
   "id": "5a1f2823",
   "metadata": {},
   "outputs": [],
   "source": [
    "a = [1 #comment\n",
    "    ,2]"
   ]
  },
  {
   "cell_type": "code",
   "execution_count": 18,
   "id": "0319575f",
   "metadata": {},
   "outputs": [
    {
     "data": {
      "text/plain": [
       "[1, 2]"
      ]
     },
     "execution_count": 18,
     "metadata": {},
     "output_type": "execute_result"
    }
   ],
   "source": [
    "a"
   ]
  },
  {
   "cell_type": "code",
   "execution_count": 19,
   "id": "5d3247cc",
   "metadata": {},
   "outputs": [],
   "source": [
    "a = (1 #comment\n",
    "    ,2 #commment\n",
    "    ,3 #another comment\n",
    "    )"
   ]
  },
  {
   "cell_type": "code",
   "execution_count": 20,
   "id": "2abae9cb",
   "metadata": {},
   "outputs": [
    {
     "data": {
      "text/plain": [
       "(1, 2, 3)"
      ]
     },
     "execution_count": 20,
     "metadata": {},
     "output_type": "execute_result"
    }
   ],
   "source": [
    "a"
   ]
  },
  {
   "cell_type": "code",
   "execution_count": 21,
   "id": "47695ba7",
   "metadata": {},
   "outputs": [],
   "source": [
    "a = {'key1': 1 #value for key 1\n",
    "    ,'key2': 2 # value for key2\n",
    "    }"
   ]
  },
  {
   "cell_type": "code",
   "execution_count": 22,
   "id": "8ff46e92",
   "metadata": {},
   "outputs": [
    {
     "data": {
      "text/plain": [
       "{'key1': 1, 'key2': 2}"
      ]
     },
     "execution_count": 22,
     "metadata": {},
     "output_type": "execute_result"
    }
   ],
   "source": [
    "a"
   ]
  },
  {
   "cell_type": "code",
   "execution_count": 23,
   "id": "3a42e362",
   "metadata": {},
   "outputs": [],
   "source": [
    "def my_func(a, #this is used to blah\n",
    "            b, #comment\n",
    "            c):\n",
    "    print(a, b, c)"
   ]
  },
  {
   "cell_type": "code",
   "execution_count": 25,
   "id": "7f4edcbf",
   "metadata": {},
   "outputs": [
    {
     "name": "stdout",
     "output_type": "stream",
     "text": [
      "10 20 30\n"
     ]
    }
   ],
   "source": [
    "my_func(10, #10\n",
    "        20, #20\n",
    "        30 #30\n",
    "        \n",
    "       )"
   ]
  },
  {
   "cell_type": "code",
   "execution_count": 27,
   "id": "c1b58adc",
   "metadata": {},
   "outputs": [
    {
     "name": "stdout",
     "output_type": "stream",
     "text": [
      "yes\n"
     ]
    }
   ],
   "source": [
    "a = 10\n",
    "b = 20\n",
    "c = 30\n",
    "if a > 5 \\\n",
    "    and b > 10 \\\n",
    "        and c > 20:\n",
    "    print('yes')"
   ]
  },
  {
   "cell_type": "code",
   "execution_count": 28,
   "id": "26326589",
   "metadata": {},
   "outputs": [],
   "source": [
    "a = '''this is a string'''"
   ]
  },
  {
   "cell_type": "code",
   "execution_count": 29,
   "id": "d11fbaaf",
   "metadata": {},
   "outputs": [
    {
     "data": {
      "text/plain": [
       "'this is a string'"
      ]
     },
     "execution_count": 29,
     "metadata": {},
     "output_type": "execute_result"
    }
   ],
   "source": [
    "a"
   ]
  },
  {
   "cell_type": "code",
   "execution_count": 30,
   "id": "e29e4d47",
   "metadata": {},
   "outputs": [],
   "source": [
    "a = '''this\n",
    "is a string'''"
   ]
  },
  {
   "cell_type": "code",
   "execution_count": 31,
   "id": "d90510fe",
   "metadata": {},
   "outputs": [
    {
     "data": {
      "text/plain": [
       "'this\\nis a string'"
      ]
     },
     "execution_count": 31,
     "metadata": {},
     "output_type": "execute_result"
    }
   ],
   "source": [
    "a"
   ]
  },
  {
   "cell_type": "code",
   "execution_count": 32,
   "id": "958f8762",
   "metadata": {},
   "outputs": [
    {
     "name": "stdout",
     "output_type": "stream",
     "text": [
      "this\n",
      "is a string\n"
     ]
    }
   ],
   "source": [
    "print(a)"
   ]
  },
  {
   "cell_type": "code",
   "execution_count": 33,
   "id": "1b976180",
   "metadata": {},
   "outputs": [],
   "source": [
    "a = '''this\n",
    "    is a string\n",
    "        that is created over multiple lines'''"
   ]
  },
  {
   "cell_type": "code",
   "execution_count": 34,
   "id": "e44ce408",
   "metadata": {},
   "outputs": [
    {
     "data": {
      "text/plain": [
       "'this\\n    is a string\\n        that is created over multiple lines'"
      ]
     },
     "execution_count": 34,
     "metadata": {},
     "output_type": "execute_result"
    }
   ],
   "source": [
    "a"
   ]
  },
  {
   "cell_type": "code",
   "execution_count": 35,
   "id": "a9cd24cb",
   "metadata": {},
   "outputs": [
    {
     "name": "stdout",
     "output_type": "stream",
     "text": [
      "this\n",
      "    is a string\n",
      "        that is created over multiple lines\n"
     ]
    }
   ],
   "source": [
    "print(a)"
   ]
  },
  {
   "cell_type": "code",
   "execution_count": 36,
   "id": "2f78a6d8",
   "metadata": {},
   "outputs": [],
   "source": [
    "a = '''some items:\n",
    "        1.item 1\n",
    "        2.item 2'''"
   ]
  },
  {
   "cell_type": "code",
   "execution_count": 37,
   "id": "1b483b67",
   "metadata": {},
   "outputs": [
    {
     "name": "stdout",
     "output_type": "stream",
     "text": [
      "some items:\n",
      "        1.item 1\n",
      "        2.item 2\n"
     ]
    }
   ],
   "source": [
    "print(a)"
   ]
  },
  {
   "cell_type": "code",
   "execution_count": 41,
   "id": "6975b9d0",
   "metadata": {},
   "outputs": [],
   "source": [
    "def my_func():\n",
    "    a = '''a multi-line string\n",
    "that is indented in the second line'''\n",
    "    return a"
   ]
  },
  {
   "cell_type": "code",
   "execution_count": 42,
   "id": "13862242",
   "metadata": {},
   "outputs": [
    {
     "data": {
      "text/plain": [
       "'a multi-line string\\nthat is indented in the second line'"
      ]
     },
     "execution_count": 42,
     "metadata": {},
     "output_type": "execute_result"
    }
   ],
   "source": [
    "my_func()"
   ]
  },
  {
   "cell_type": "code",
   "execution_count": 43,
   "id": "25e86ab7",
   "metadata": {},
   "outputs": [
    {
     "name": "stdout",
     "output_type": "stream",
     "text": [
      "a multi-line string\n",
      "that is indented in the second line\n"
     ]
    }
   ],
   "source": [
    "print(my_func())"
   ]
  },
  {
   "cell_type": "code",
   "execution_count": null,
   "id": "0a66a05b",
   "metadata": {},
   "outputs": [],
   "source": []
  }
 ],
 "metadata": {
  "kernelspec": {
   "display_name": "Python 3",
   "language": "python",
   "name": "python3"
  },
  "language_info": {
   "codemirror_mode": {
    "name": "ipython",
    "version": 3
   },
   "file_extension": ".py",
   "mimetype": "text/x-python",
   "name": "python",
   "nbconvert_exporter": "python",
   "pygments_lexer": "ipython3",
   "version": "3.8.8"
  }
 },
 "nbformat": 4,
 "nbformat_minor": 5
}
